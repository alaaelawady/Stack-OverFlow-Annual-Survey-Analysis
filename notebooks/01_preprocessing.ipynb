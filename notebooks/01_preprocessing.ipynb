{
 "cells": [
  {
   "cell_type": "code",
   "execution_count": 385,
   "metadata": {},
   "outputs": [],
   "source": [
    "import pandas as pd\n",
    "import numpy as np\n",
    "import matplotlib.pyplot as plt "
   ]
  },
  {
   "cell_type": "code",
   "execution_count": 386,
   "metadata": {},
   "outputs": [],
   "source": [
    "PATH='../src/data/survey_results_public.csv'\n",
    "EXPORT_PATH = \"../src/data/1_preprocessed_df.pkl\"\n",
    "\n",
    "data = pd.read_csv(PATH)"
   ]
  },
  {
   "cell_type": "code",
   "execution_count": 387,
   "metadata": {},
   "outputs": [],
   "source": [
    "new_data=data.copy()"
   ]
  },
  {
   "cell_type": "markdown",
   "metadata": {},
   "source": [
    "\n",
    "## Start Preprocess on cop of data"
   ]
  },
  {
   "cell_type": "markdown",
   "metadata": {},
   "source": [
    "* 1 -Drop Not intersting columns :\n",
    "  \n",
    "  \"UK_Country\", \"US_State\"  columns have too much missing values! , hard to fill with data so i dropped them     \n",
    "    "
   ]
  },
  {
   "cell_type": "code",
   "execution_count": 388,
   "metadata": {},
   "outputs": [],
   "source": [
    "new_data.drop([\"UK_Country\", \"US_State\"], axis=1, inplace=True)"
   ]
  },
  {
   "cell_type": "code",
   "execution_count": 389,
   "metadata": {},
   "outputs": [],
   "source": [
    "# remove_columns = ['CompTotal','CompFreq', 'ConvertedCompYearly', \n",
    "#                      'NEWStuck', 'NEWSOSites', 'NEWOtherComms', 'SOVisitFreq',\n",
    "#                      'SOAccount','SOPartFreq', 'SOComm']"
   ]
  },
  {
   "cell_type": "code",
   "execution_count": 390,
   "metadata": {},
   "outputs": [],
   "source": [
    "new_data.drop(remove_columns , axis =1 , inplace =True)"
   ]
  },
  {
   "cell_type": "code",
   "execution_count": 391,
   "metadata": {},
   "outputs": [],
   "source": [
    "# ResponseId column act as index of data so i remove it \n",
    "new_data.drop('ResponseId' , axis =1 , inplace =True)"
   ]
  },
  {
   "cell_type": "code",
   "execution_count": 392,
   "metadata": {},
   "outputs": [
    {
     "data": {
      "text/plain": [
       "(83439, 35)"
      ]
     },
     "execution_count": 392,
     "metadata": {},
     "output_type": "execute_result"
    }
   ],
   "source": [
    "new_data.shape"
   ]
  },
  {
   "cell_type": "code",
   "execution_count": 393,
   "metadata": {},
   "outputs": [
    {
     "data": {
      "text/plain": [
       "array(['18 - 24 years', '11 - 17 years', '5 - 10 years', '25 - 34 years',\n",
       "       '35 - 44 years', 'Younger than 5 years', '45 - 54 years',\n",
       "       '55 - 64 years', nan, 'Older than 64 years'], dtype=object)"
      ]
     },
     "execution_count": 393,
     "metadata": {},
     "output_type": "execute_result"
    }
   ],
   "source": [
    "new_data[\"Age1stCode\"].unique()"
   ]
  },
  {
   "cell_type": "markdown",
   "metadata": {},
   "source": [
    "### Dealing with object data at[\"Age1stCode\" ,\"YearsCode\" ,  \"YearsCodePro\"]"
   ]
  },
  {
   "cell_type": "code",
   "execution_count": 394,
   "metadata": {},
   "outputs": [],
   "source": [
    "new_data[\"YearsCodePro\"]=new_data[\"YearsCodePro\"].replace(\"Less than 1 year\" , 0 )\n",
    "new_data[\"YearsCodePro\"]=new_data[\"YearsCodePro\"].replace(\"More than 50 years\" , 51 )\n",
    "new_data[\"YearsCode\"]=new_data[\"YearsCode\"].replace(\"Less than 1 year\" , 0)\n",
    "new_data[\"YearsCode\"]=new_data[\"YearsCode\"].replace(\"More than 50 years\" , 51)\n",
    "\n",
    "\n",
    "new_data[\"Age1stCode\"]=new_data[\"Age1stCode\"].replace(\"Older than 64 years\" , 86 )\n",
    "new_data[\"Age1stCode\"]=new_data[\"Age1stCode\"].replace(\"Younger than 5 years\" , 4 )\n",
    "new_data[\"Age1stCode\"]=new_data[\"Age1stCode\"].replace(\"18 - 24 years\" , 21 )\n",
    "new_data[\"Age1stCode\"]=new_data[\"Age1stCode\"].replace(\"11 - 17 years\" , 4 )\n",
    "new_data[\"Age1stCode\"]=new_data[\"Age1stCode\"].replace(\"5 - 10 years\" , 86 )\n",
    "new_data[\"Age1stCode\"]=new_data[\"Age1stCode\"].replace(\"25 - 34 years\" , 4 )\n",
    "new_data[\"Age1stCode\"]=new_data[\"Age1stCode\"].replace(\"35 - 44 years\" , 86 )\n",
    "new_data[\"Age1stCode\"]=new_data[\"Age1stCode\"].replace(\"45 - 54 years\" , 4 )\n",
    "new_data[\"Age1stCode\"]=new_data[\"Age1stCode\"].replace(\"55 - 64 years\" , 4 )\n",
    "\n"
   ]
  },
  {
   "cell_type": "code",
   "execution_count": 395,
   "metadata": {},
   "outputs": [
    {
     "name": "stdout",
     "output_type": "stream",
     "text": [
      "Age1stCode\n",
      "[21.  4. 86. nan]\n",
      "YearsCode\n",
      "[nan '7' '17' '3' '4' '6' '16' '12' '15' '10' '40' '9' '26' '14' '39' '20'\n",
      " '8' '19' '5' 0 '22' '2' '1' '34' '21' '13' '25' '24' '30' '31' '18' '38'\n",
      " 51 '27' '41' '42' '35' '23' '28' '11' '37' '44' '43' '36' '33' '45' '29'\n",
      " '50' '46' '32' '47' '49' '48']\n",
      "YearsCodePro\n",
      "[nan '10' '4' '5' '6' '2' '30' '9' '18' '12' '21' '1' '16' 0 '15' '3' '35'\n",
      " '7' '8' '17' '14' '26' '25' '20' '50' '34' '11' '24' '22' '13' '31' '23'\n",
      " '39' '41' '27' '28' '19' '33' 51 '37' '29' '32' '43' '40' '38' '45' '42'\n",
      " '46' '36' '44' '47' '48' '49']\n"
     ]
    }
   ],
   "source": [
    "cols=[\"Age1stCode\" ,\"YearsCode\" ,\"YearsCodePro\"]\n",
    "# take overview about data columns \n",
    "for c in cols:\n",
    "    print(c)\n",
    "    print(new_data[c].unique())"
   ]
  },
  {
   "cell_type": "code",
   "execution_count": 396,
   "metadata": {},
   "outputs": [],
   "source": [
    "#conv to numeric valuse\n",
    "new_data['YearsCodePro']= pd.to_numeric(new_data[\"YearsCodePro\"], errors='coerce')\n",
    "new_data['YearsCode']= pd.to_numeric(new_data[\"YearsCode\"], errors='coerce')"
   ]
  },
  {
   "cell_type": "markdown",
   "metadata": {},
   "source": [
    "### Replace NAs with empty lists \n"
   ]
  },
  {
   "cell_type": "code",
   "execution_count": 397,
   "metadata": {},
   "outputs": [
    {
     "name": "stderr",
     "output_type": "stream",
     "text": [
      "C:\\Users\\USER\\AppData\\Roaming\\Python\\Python38\\site-packages\\pandas\\core\\indexing.py:1732: SettingWithCopyWarning: \n",
      "A value is trying to be set on a copy of a slice from a DataFrame\n",
      "\n",
      "See the caveats in the documentation: https://pandas.pydata.org/pandas-docs/stable/user_guide/indexing.html#returning-a-view-versus-a-copy\n",
      "  self._setitem_single_block(indexer, value, name)\n"
     ]
    }
   ],
   "source": [
    "for col in new_data.columns :\n",
    "    mask_null = new_data[col].isnull()\n",
    "    if new_data[col].isnull().sum()>0:\n",
    "# mask_null\n",
    "        new_data[col].loc[mask_null] = new_data[col].loc[mask_null].apply(lambda x: [])\n",
    "    else :\n",
    "        new_data[i]=new_data[i]\n",
    "#     new_data[col]=new_data[col].str.split(\";\")\n"
   ]
  },
  {
   "cell_type": "code",
   "execution_count": null,
   "metadata": {},
   "outputs": [],
   "source": [
    "new_data.isnull().sum()\n",
    "# # new_data.DevType                         "
   ]
  },
  {
   "cell_type": "code",
   "execution_count": 399,
   "metadata": {},
   "outputs": [],
   "source": [
    "# new_data.LearnCode.str.contains(\",\").sum()"
   ]
  },
  {
   "cell_type": "markdown",
   "metadata": {},
   "source": [
    "###  Spliting data"
   ]
  },
  {
   "cell_type": "code",
   "execution_count": null,
   "metadata": {},
   "outputs": [],
   "source": [
    "# new_data[\"LearnCode\"].str.contains(\";\").sum()\n",
    "# new_data['SurveyEase'].isnull().sum()>0\n",
    "for i in new_data.columns :\n",
    "    if new_data[i].str.contains(\";\").sum()>0:\n",
    "        new_data[i]=new_data[i].str.split(\";\")\n",
    "    else :\n",
    "        new_data[i] = new_data[i]\n",
    "\n"
   ]
  },
  {
   "cell_type": "code",
   "execution_count": 366,
   "metadata": {},
   "outputs": [
    {
     "data": {
      "text/html": [
       "<div>\n",
       "<style scoped>\n",
       "    .dataframe tbody tr th:only-of-type {\n",
       "        vertical-align: middle;\n",
       "    }\n",
       "\n",
       "    .dataframe tbody tr th {\n",
       "        vertical-align: top;\n",
       "    }\n",
       "\n",
       "    .dataframe thead th {\n",
       "        text-align: right;\n",
       "    }\n",
       "</style>\n",
       "<table border=\"1\" class=\"dataframe\">\n",
       "  <thead>\n",
       "    <tr style=\"text-align: right;\">\n",
       "      <th></th>\n",
       "      <th>MainBranch</th>\n",
       "      <th>Employment</th>\n",
       "      <th>Country</th>\n",
       "      <th>EdLevel</th>\n",
       "      <th>Age1stCode</th>\n",
       "      <th>LearnCode</th>\n",
       "      <th>YearsCode</th>\n",
       "      <th>YearsCodePro</th>\n",
       "      <th>DevType</th>\n",
       "      <th>OrgSize</th>\n",
       "      <th>...</th>\n",
       "      <th>OpSys</th>\n",
       "      <th>Age</th>\n",
       "      <th>Gender</th>\n",
       "      <th>Trans</th>\n",
       "      <th>Sexuality</th>\n",
       "      <th>Ethnicity</th>\n",
       "      <th>Accessibility</th>\n",
       "      <th>MentalHealth</th>\n",
       "      <th>SurveyLength</th>\n",
       "      <th>SurveyEase</th>\n",
       "    </tr>\n",
       "  </thead>\n",
       "  <tbody>\n",
       "    <tr>\n",
       "      <th>0</th>\n",
       "      <td>I am a developer by profession</td>\n",
       "      <td>Independent contractor, freelancer, or self-em...</td>\n",
       "      <td>Slovakia</td>\n",
       "      <td>Secondary school (e.g. American high school, G...</td>\n",
       "      <td>21.0</td>\n",
       "      <td>[Coding Bootcamp, Other online resources (ex: ...</td>\n",
       "      <td>[]</td>\n",
       "      <td>[]</td>\n",
       "      <td>[Developer, mobile]</td>\n",
       "      <td>20 to 99 employees</td>\n",
       "      <td>...</td>\n",
       "      <td>MacOS</td>\n",
       "      <td>25-34 years old</td>\n",
       "      <td>[Man]</td>\n",
       "      <td>No</td>\n",
       "      <td>[Straight / Heterosexual]</td>\n",
       "      <td>[White or of European descent]</td>\n",
       "      <td>[None of the above]</td>\n",
       "      <td>[None of the above]</td>\n",
       "      <td>Appropriate in length</td>\n",
       "      <td>Easy</td>\n",
       "    </tr>\n",
       "    <tr>\n",
       "      <th>1</th>\n",
       "      <td>I am a student who is learning to code</td>\n",
       "      <td>Student, full-time</td>\n",
       "      <td>Netherlands</td>\n",
       "      <td>Bachelor’s degree (B.A., B.S., B.Eng., etc.)</td>\n",
       "      <td>4.0</td>\n",
       "      <td>[Other online resources (ex: videos, blogs, et...</td>\n",
       "      <td>7.0</td>\n",
       "      <td>[]</td>\n",
       "      <td>NaN</td>\n",
       "      <td>[]</td>\n",
       "      <td>...</td>\n",
       "      <td>Windows</td>\n",
       "      <td>18-24 years old</td>\n",
       "      <td>[Man]</td>\n",
       "      <td>No</td>\n",
       "      <td>[Straight / Heterosexual]</td>\n",
       "      <td>[White or of European descent]</td>\n",
       "      <td>[None of the above]</td>\n",
       "      <td>[None of the above]</td>\n",
       "      <td>Appropriate in length</td>\n",
       "      <td>Easy</td>\n",
       "    </tr>\n",
       "  </tbody>\n",
       "</table>\n",
       "<p>2 rows × 35 columns</p>\n",
       "</div>"
      ],
      "text/plain": [
       "                               MainBranch  \\\n",
       "0          I am a developer by profession   \n",
       "1  I am a student who is learning to code   \n",
       "\n",
       "                                          Employment      Country  \\\n",
       "0  Independent contractor, freelancer, or self-em...     Slovakia   \n",
       "1                                 Student, full-time  Netherlands   \n",
       "\n",
       "                                             EdLevel Age1stCode  \\\n",
       "0  Secondary school (e.g. American high school, G...       21.0   \n",
       "1       Bachelor’s degree (B.A., B.S., B.Eng., etc.)        4.0   \n",
       "\n",
       "                                           LearnCode YearsCode YearsCodePro  \\\n",
       "0  [Coding Bootcamp, Other online resources (ex: ...        []           []   \n",
       "1  [Other online resources (ex: videos, blogs, et...       7.0           []   \n",
       "\n",
       "               DevType             OrgSize  ...    OpSys              Age  \\\n",
       "0  [Developer, mobile]  20 to 99 employees  ...    MacOS  25-34 years old   \n",
       "1                  NaN                  []  ...  Windows  18-24 years old   \n",
       "\n",
       "  Gender Trans                  Sexuality                       Ethnicity  \\\n",
       "0  [Man]    No  [Straight / Heterosexual]  [White or of European descent]   \n",
       "1  [Man]    No  [Straight / Heterosexual]  [White or of European descent]   \n",
       "\n",
       "         Accessibility         MentalHealth           SurveyLength SurveyEase  \n",
       "0  [None of the above]  [None of the above]  Appropriate in length       Easy  \n",
       "1  [None of the above]  [None of the above]  Appropriate in length       Easy  \n",
       "\n",
       "[2 rows x 35 columns]"
      ]
     },
     "execution_count": 366,
     "metadata": {},
     "output_type": "execute_result"
    }
   ],
   "source": [
    "new_data.head(2)"
   ]
  },
  {
   "cell_type": "code",
   "execution_count": 367,
   "metadata": {},
   "outputs": [
    {
     "data": {
      "text/plain": [
       "MainBranch                                         I am a developer by profession\n",
       "Employment                      Independent contractor, freelancer, or self-em...\n",
       "Country                                                                    Poland\n",
       "EdLevel                              Bachelor’s degree (B.A., B.S., B.Eng., etc.)\n",
       "Age1stCode                                                                   21.0\n",
       "LearnCode                       [Other online resources (ex: videos, blogs, et...\n",
       "YearsCode                                                                     4.0\n",
       "YearsCodePro                                                                  0.0\n",
       "DevType                                                   [Developer, full-stack]\n",
       "OrgSize                                                      100 to 499 employees\n",
       "Currency                                                        PLN\\tPolish zloty\n",
       "LanguageHaveWorkedWith                                               [JavaScript]\n",
       "LanguageWantToWorkWith                                               [JavaScript]\n",
       "DatabaseHaveWorkedWith                                      [MongoDB, PostgreSQL]\n",
       "DatabaseWantToWorkWith                                                        NaN\n",
       "PlatformHaveWorkedWith                                                   [Heroku]\n",
       "PlatformWantToWorkWith                                                        NaN\n",
       "WebframeHaveWorkedWith                                        [Angular, React.js]\n",
       "WebframeWantToWorkWith                                                 [React.js]\n",
       "MiscTechHaveWorkedWith                                                        NaN\n",
       "MiscTechWantToWorkWith                                                        NaN\n",
       "ToolsTechHaveWorkedWith                                                     [Git]\n",
       "ToolsTechWantToWorkWith                                                     [Git]\n",
       "NEWCollabToolsHaveWorkedWith                                 [Visual Studio Code]\n",
       "NEWCollabToolsWantToWorkWith                                 [Visual Studio Code]\n",
       "OpSys                                                                     Windows\n",
       "Age                                                               18-24 years old\n",
       "Gender                                                                      [Man]\n",
       "Trans                                                                          No\n",
       "Sexuality                                               [Straight / Heterosexual]\n",
       "Ethnicity                                          [White or of European descent]\n",
       "Accessibility                                                 [None of the above]\n",
       "MentalHealth                                                  [None of the above]\n",
       "SurveyLength                                                             Too long\n",
       "SurveyEase                                                                   Easy\n",
       "Name: 25572, dtype: object"
      ]
     },
     "execution_count": 367,
     "metadata": {},
     "output_type": "execute_result"
    }
   ],
   "source": [
    "new_data.sample(1).iloc[0]"
   ]
  },
  {
   "cell_type": "code",
   "execution_count": 368,
   "metadata": {},
   "outputs": [],
   "source": [
    "# new_data[\"YearsCode\"]\n",
    "\n",
    "from sklearn.manifold import TSNE\n",
    "from sklearn.preprocessing import MultiLabelBinarizer\n",
    "from sklearn.preprocessing import StandardScaler\n",
    "from sklearn.preprocessing import RobustScaler\n",
    "from sklearn.preprocessing import MinMaxScaler\n",
    "from sklearn.pipeline import make_pipeline\n",
    "from sklearn.cluster import AgglomerativeClustering\n",
    "\n",
    "from matplotlib import pyplot as plt\n",
    "from scipy.cluster.hierarchy import dendrogram"
   ]
  },
  {
   "cell_type": "code",
   "execution_count": null,
   "metadata": {},
   "outputs": [],
   "source": []
  },
  {
   "cell_type": "code",
   "execution_count": 369,
   "metadata": {},
   "outputs": [],
   "source": [
    "ROLE_COLS      = ['DevType']\n",
    "TECH_COLS      = ['LanguageHaveWorkedWith',    'DatabaseHaveWorkedWith',    'WebframeHaveWorkedWith',    'MiscTechHaveWorkedWith',    ]\n",
    "TECH_NEXT_COLS = ['LanguageWantToWorkWith','DatabaseWantToWorkWith','WebframeWantToWorkWith','MiscTechWantToWorkWith']\n",
    "encodedcols=TECH_COLS+TECH_NEXT_COLS\n"
   ]
  },
  {
   "cell_type": "code",
   "execution_count": 370,
   "metadata": {},
   "outputs": [],
   "source": [
    "# for i in encodedcols:\n",
    "#     print(i in new_data.columns)"
   ]
  },
  {
   "cell_type": "code",
   "execution_count": 381,
   "metadata": {},
   "outputs": [],
   "source": [
    "# one hot encoded\n",
    "binarizer =MultiLabelBinarizer()\n",
    "encodeddata=new_data[encodedcols]\n",
    "encodeddata=binarizer.fit_transform(encodeddata)"
   ]
  },
  {
   "cell_type": "code",
   "execution_count": 383,
   "metadata": {},
   "outputs": [
    {
     "data": {
      "text/plain": [
       "array([[0, 1, 1, 0, 0, 1, 1, 0, 0, 1, 1, 0, 1, 1, 1, 1, 0, 1, 1, 1, 0, 1,\n",
       "        1, 1],\n",
       "       [1, 1, 0, 0, 0, 1, 1, 1, 0, 1, 1, 0, 0, 1, 1, 1, 0, 0, 1, 1, 1, 1,\n",
       "        0, 1],\n",
       "       [0, 1, 0, 0, 0, 1, 1, 1, 0, 1, 1, 1, 0, 1, 1, 1, 1, 0, 1, 1, 0, 1,\n",
       "        0, 1],\n",
       "       [0, 1, 0, 1, 1, 1, 1, 0, 1, 1, 1, 0, 0, 1, 1, 1, 0, 0, 1, 1, 1, 1,\n",
       "        0, 1],\n",
       "       [0, 0, 1, 0, 1, 1, 1, 0, 0, 0, 1, 0, 1, 1, 1, 1, 0, 1, 1, 1, 0, 1,\n",
       "        1, 0],\n",
       "       [1, 0, 0, 0, 1, 1, 1, 1, 0, 0, 1, 0, 0, 1, 1, 1, 0, 1, 1, 1, 1, 1,\n",
       "        0, 0],\n",
       "       [0, 0, 0, 0, 1, 1, 1, 1, 0, 0, 1, 1, 0, 1, 1, 1, 1, 1, 1, 1, 0, 1,\n",
       "        0, 0],\n",
       "       [0, 0, 0, 1, 1, 1, 1, 0, 1, 0, 1, 0, 0, 1, 1, 1, 0, 1, 1, 1, 1, 1,\n",
       "        0, 0]])"
      ]
     },
     "execution_count": 383,
     "metadata": {},
     "output_type": "execute_result"
    }
   ],
   "source": [
    "encodeddata"
   ]
  },
  {
   "cell_type": "code",
   "execution_count": 376,
   "metadata": {},
   "outputs": [
    {
     "ename": "NameError",
     "evalue": "name 'df' is not defined",
     "output_type": "error",
     "traceback": [
      "\u001b[1;31m---------------------------------------------------------------------------\u001b[0m",
      "\u001b[1;31mNameError\u001b[0m                                 Traceback (most recent call last)",
      "\u001b[1;32m<ipython-input-376-57e0aaf37741>\u001b[0m in \u001b[0;36m<module>\u001b[1;34m\u001b[0m\n\u001b[1;32m----> 1\u001b[1;33m \u001b[0mdf\u001b[0m\u001b[1;33m.\u001b[0m\u001b[0mto_pickle\u001b[0m\u001b[1;33m(\u001b[0m\u001b[0mEXPORT_PATH\u001b[0m\u001b[1;33m)\u001b[0m\u001b[1;33m\u001b[0m\u001b[1;33m\u001b[0m\u001b[0m\n\u001b[0m",
      "\u001b[1;31mNameError\u001b[0m: name 'df' is not defined"
     ]
    }
   ],
   "source": [
    "df.to_pickle(EXPORT_PATH)"
   ]
  },
  {
   "cell_type": "code",
   "execution_count": null,
   "metadata": {},
   "outputs": [],
   "source": []
  }
 ],
 "metadata": {
  "kernelspec": {
   "display_name": "Python 3",
   "language": "python",
   "name": "python3"
  },
  "language_info": {
   "codemirror_mode": {
    "name": "ipython",
    "version": 3
   },
   "file_extension": ".py",
   "mimetype": "text/x-python",
   "name": "python",
   "nbconvert_exporter": "python",
   "pygments_lexer": "ipython3",
   "version": "3.8.3"
  }
 },
 "nbformat": 4,
 "nbformat_minor": 4
}
